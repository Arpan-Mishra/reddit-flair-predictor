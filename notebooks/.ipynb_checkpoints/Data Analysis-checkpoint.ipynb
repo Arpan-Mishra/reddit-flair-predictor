{
 "cells": [
  {
   "cell_type": "markdown",
   "metadata": {},
   "source": [
    "# Part 2: Data Analysis of Reddit Data"
   ]
  },
  {
   "cell_type": "markdown",
   "metadata": {},
   "source": [
    "### Importing necessary libraries"
   ]
  },
  {
   "cell_type": "code",
   "execution_count": 1,
   "metadata": {},
   "outputs": [
    {
     "ename": "ModuleNotFoundError",
     "evalue": "No module named 'gensim'",
     "output_type": "error",
     "traceback": [
      "\u001b[1;31m---------------------------------------------------------------------------\u001b[0m",
      "\u001b[1;31mModuleNotFoundError\u001b[0m                       Traceback (most recent call last)",
      "\u001b[1;32m<ipython-input-1-01863ffb088f>\u001b[0m in \u001b[0;36m<module>\u001b[1;34m\u001b[0m\n\u001b[0;32m      8\u001b[0m \u001b[1;32mimport\u001b[0m \u001b[0mre\u001b[0m\u001b[1;33m\u001b[0m\u001b[0m\n\u001b[0;32m      9\u001b[0m \u001b[1;32mimport\u001b[0m \u001b[0mnltk\u001b[0m\u001b[1;33m\u001b[0m\u001b[0m\n\u001b[1;32m---> 10\u001b[1;33m \u001b[1;32mfrom\u001b[0m \u001b[0mgensim\u001b[0m\u001b[1;33m.\u001b[0m\u001b[0mmodels\u001b[0m \u001b[1;32mimport\u001b[0m \u001b[0mword2vec\u001b[0m\u001b[1;33m\u001b[0m\u001b[0m\n\u001b[0m\u001b[0;32m     11\u001b[0m \u001b[1;33m\u001b[0m\u001b[0m\n\u001b[0;32m     12\u001b[0m \u001b[1;31m# Data Visualisation\u001b[0m\u001b[1;33m\u001b[0m\u001b[1;33m\u001b[0m\u001b[0m\n",
      "\u001b[1;31mModuleNotFoundError\u001b[0m: No module named 'gensim'"
     ]
    }
   ],
   "source": [
    "\n",
    "# Data Manipulation \n",
    "import numpy as np \n",
    "import pandas as pd \n",
    "#pd.options.mode.chained_assignment = None \n",
    "\n",
    "# Text Manipulation \n",
    "import re \n",
    "import nltk \n",
    "from gensim.models import word2vec\n",
    "\n",
    "# Data Visualisation \n",
    "import matplotlib.pyplot as plt \n",
    "import seaborn as sns"
   ]
  },
  {
   "cell_type": "code",
   "execution_count": 2,
   "metadata": {},
   "outputs": [
    {
     "data": {
      "text/plain": [
       "(988, 11)"
      ]
     },
     "execution_count": 2,
     "metadata": {},
     "output_type": "execute_result"
    }
   ],
   "source": [
    "# Load the data into a dataframe \n",
    "data = pd.read_csv('final_data.csv')\n",
    "data.shape"
   ]
  },
  {
   "cell_type": "markdown",
   "metadata": {},
   "source": [
    "Let's make a list of all STOPWORDS to clean the text data. To make searching faster, we only download the stopwords from the english language. Definition: Stopwords are the English words which does not add much meaning to a sentence. They can safely be ignored without sacrificing the meaning of the sentence."
   ]
  },
  {
   "cell_type": "code",
   "execution_count": 3,
   "metadata": {},
   "outputs": [
    {
     "name": "stdout",
     "output_type": "stream",
     "text": [
      "['i', 'me', 'my', 'myself', 'we', 'our', 'ours', 'ourselves', 'you', \"you're\", \"you've\", \"you'll\", \"you'd\", 'your', 'yours', 'yourself', 'yourselves', 'he', 'him', 'his', 'himself', 'she', \"she's\", 'her', 'hers', 'herself', 'it', \"it's\", 'its', 'itself', 'they', 'them', 'their', 'theirs', 'themselves', 'what', 'which', 'who', 'whom', 'this', 'that', \"that'll\", 'these', 'those', 'am', 'is', 'are', 'was', 'were', 'be', 'been', 'being', 'have', 'has', 'had', 'having', 'do', 'does', 'did', 'doing', 'a', 'an', 'the', 'and', 'but', 'if', 'or', 'because', 'as', 'until', 'while', 'of', 'at', 'by', 'for', 'with', 'about', 'against', 'between', 'into', 'through', 'during', 'before', 'after', 'above', 'below', 'to', 'from', 'up', 'down', 'in', 'out', 'on', 'off', 'over', 'under', 'again', 'further', 'then', 'once', 'here', 'there', 'when', 'where', 'why', 'how', 'all', 'any', 'both', 'each', 'few', 'more', 'most', 'other', 'some', 'such', 'no', 'nor', 'not', 'only', 'own', 'same', 'so', 'than', 'too', 'very', 's', 't', 'can', 'will', 'just', 'don', \"don't\", 'should', \"should've\", 'now', 'd', 'll', 'm', 'o', 're', 've', 'y', 'ain', 'aren', \"aren't\", 'couldn', \"couldn't\", 'didn', \"didn't\", 'doesn', \"doesn't\", 'hadn', \"hadn't\", 'hasn', \"hasn't\", 'haven', \"haven't\", 'isn', \"isn't\", 'ma', 'mightn', \"mightn't\", 'mustn', \"mustn't\", 'needn', \"needn't\", 'shan', \"shan't\", 'shouldn', \"shouldn't\", 'wasn', \"wasn't\", 'weren', \"weren't\", 'won', \"won't\", 'wouldn', \"wouldn't\"]\n"
     ]
    },
    {
     "name": "stderr",
     "output_type": "stream",
     "text": [
      "[nltk_data] Downloading package stopwords to\n",
      "[nltk_data]     /home/prakhar/nltk_data...\n",
      "[nltk_data]   Package stopwords is already up-to-date!\n"
     ]
    }
   ],
   "source": [
    "nltk.download('stopwords')\n",
    "STOPWORDS = nltk.corpus.stopwords.words('english')\n",
    "# Have a look at the various stopwords\n",
    "print(STOPWORDS)"
   ]
  },
  {
   "cell_type": "code",
   "execution_count": 4,
   "metadata": {},
   "outputs": [
    {
     "data": {
      "text/plain": [
       "Unnamed: 0         0\n",
       "Title              0\n",
       "Score              0\n",
       "ID                 0\n",
       "Subreddit          0\n",
       "URL                0\n",
       "Original           0\n",
       "num_comments       0\n",
       "Flair              1\n",
       "Body             923\n",
       "creation_date      0\n",
       "dtype: int64"
      ]
     },
     "execution_count": 4,
     "metadata": {},
     "output_type": "execute_result"
    }
   ],
   "source": [
    "# Let's look at the number of empty columns\n",
    "data.isnull().sum()"
   ]
  },
  {
   "cell_type": "markdown",
   "metadata": {},
   "source": [
    "We can see that the body column is empty in 924 out of 989 rows. We cannot impute this value either because it can have paragraphs. The url feature redirects to the article where the body is missing we can always scrape that, however, doesn't seem like it will help much and it is going to be more difficult to automate the collection of self_text from these external websites. We can get a jist of the content mainly from the title and we can use it for our models. Going forward, I will get rid of the body column but I can still use it for my data analysis section. "
   ]
  },
  {
   "cell_type": "markdown",
   "metadata": {},
   "source": [
    "## Data Cleaning and Preparation\n",
    "\n",
    "In this section, I will be removing unnecessary words, cleaning the dataset and individual sentences. I will also be creating a corpus for further analyses. A corpus is a list containing split() sentences and each word can be accounted for. I will aslo be checking the data quality for any inconsistency and accuracy."
   ]
  },
  {
   "cell_type": "code",
   "execution_count": 5,
   "metadata": {},
   "outputs": [
    {
     "data": {
      "text/plain": [
       "Index(['Unnamed: 0', 'Title', 'Score', 'ID', 'Subreddit', 'URL', 'Original',\n",
       "       'num_comments', 'Flair', 'Body', 'creation_date'],\n",
       "      dtype='object')"
      ]
     },
     "execution_count": 5,
     "metadata": {},
     "output_type": "execute_result"
    }
   ],
   "source": [
    "data.columns"
   ]
  },
  {
   "cell_type": "code",
   "execution_count": 6,
   "metadata": {},
   "outputs": [
    {
     "data": {
      "text/html": [
       "<div>\n",
       "<style scoped>\n",
       "    .dataframe tbody tr th:only-of-type {\n",
       "        vertical-align: middle;\n",
       "    }\n",
       "\n",
       "    .dataframe tbody tr th {\n",
       "        vertical-align: top;\n",
       "    }\n",
       "\n",
       "    .dataframe thead th {\n",
       "        text-align: right;\n",
       "    }\n",
       "</style>\n",
       "<table border=\"1\" class=\"dataframe\">\n",
       "  <thead>\n",
       "    <tr style=\"text-align: right;\">\n",
       "      <th></th>\n",
       "      <th>Unnamed: 0</th>\n",
       "      <th>Title</th>\n",
       "      <th>Score</th>\n",
       "      <th>ID</th>\n",
       "      <th>Subreddit</th>\n",
       "      <th>URL</th>\n",
       "      <th>Original</th>\n",
       "      <th>num_comments</th>\n",
       "      <th>Flair</th>\n",
       "      <th>Body</th>\n",
       "      <th>creation_date</th>\n",
       "    </tr>\n",
       "  </thead>\n",
       "  <tbody>\n",
       "    <tr>\n",
       "      <th>0</th>\n",
       "      <td>0</td>\n",
       "      <td>Will donate thrice the number of upvotes (amou...</td>\n",
       "      <td>19714</td>\n",
       "      <td>981o7s</td>\n",
       "      <td>india</td>\n",
       "      <td>https://www.reddit.com/r/india/comments/981o7s...</td>\n",
       "      <td>False</td>\n",
       "      <td>836</td>\n",
       "      <td>[R]eddiquette</td>\n",
       "      <td>&gt;**Note**: If you want to know what this is al...</td>\n",
       "      <td>2018-08-17 20:02:17</td>\n",
       "    </tr>\n",
       "    <tr>\n",
       "      <th>1</th>\n",
       "      <td>1</td>\n",
       "      <td>Indian reply to NYtimes cartoon on Paris clima...</td>\n",
       "      <td>18240</td>\n",
       "      <td>6f10op</td>\n",
       "      <td>india</td>\n",
       "      <td>http://imgur.com/a/U48v9</td>\n",
       "      <td>False</td>\n",
       "      <td>1492</td>\n",
       "      <td>/r/all</td>\n",
       "      <td>NaN</td>\n",
       "      <td>2017-06-03 20:47:25</td>\n",
       "    </tr>\n",
       "    <tr>\n",
       "      <th>2</th>\n",
       "      <td>2</td>\n",
       "      <td>The essence of the Indian soap opera, distille...</td>\n",
       "      <td>18195</td>\n",
       "      <td>8pymkp</td>\n",
       "      <td>india</td>\n",
       "      <td>https://gfycat.com/DigitalSparseAkitainu</td>\n",
       "      <td>False</td>\n",
       "      <td>949</td>\n",
       "      <td>r/all</td>\n",
       "      <td>NaN</td>\n",
       "      <td>2018-06-10 12:46:29</td>\n",
       "    </tr>\n",
       "    <tr>\n",
       "      <th>3</th>\n",
       "      <td>3</td>\n",
       "      <td>Fuck all Religion</td>\n",
       "      <td>17810</td>\n",
       "      <td>f9outu</td>\n",
       "      <td>india</td>\n",
       "      <td>https://www.reddit.com/r/india/comments/f9outu...</td>\n",
       "      <td>False</td>\n",
       "      <td>4206</td>\n",
       "      <td>Politics</td>\n",
       "      <td>Fuck all religion. Fuck Hindusim, fuck Islam, ...</td>\n",
       "      <td>2020-02-26 14:10:49</td>\n",
       "    </tr>\n",
       "    <tr>\n",
       "      <th>4</th>\n",
       "      <td>4</td>\n",
       "      <td>German exchange Student at IIT Madras is being...</td>\n",
       "      <td>11684</td>\n",
       "      <td>eev8g5</td>\n",
       "      <td>india</td>\n",
       "      <td>https://i.redd.it/j816l4c40i641.jpg</td>\n",
       "      <td>False</td>\n",
       "      <td>501</td>\n",
       "      <td>Politics</td>\n",
       "      <td>NaN</td>\n",
       "      <td>2019-12-24 11:10:46</td>\n",
       "    </tr>\n",
       "  </tbody>\n",
       "</table>\n",
       "</div>"
      ],
      "text/plain": [
       "   Unnamed: 0                                              Title  Score  \\\n",
       "0           0  Will donate thrice the number of upvotes (amou...  19714   \n",
       "1           1  Indian reply to NYtimes cartoon on Paris clima...  18240   \n",
       "2           2  The essence of the Indian soap opera, distille...  18195   \n",
       "3           3                                  Fuck all Religion  17810   \n",
       "4           4  German exchange Student at IIT Madras is being...  11684   \n",
       "\n",
       "       ID Subreddit                                                URL  \\\n",
       "0  981o7s     india  https://www.reddit.com/r/india/comments/981o7s...   \n",
       "1  6f10op     india                           http://imgur.com/a/U48v9   \n",
       "2  8pymkp     india           https://gfycat.com/DigitalSparseAkitainu   \n",
       "3  f9outu     india  https://www.reddit.com/r/india/comments/f9outu...   \n",
       "4  eev8g5     india                https://i.redd.it/j816l4c40i641.jpg   \n",
       "\n",
       "   Original  num_comments          Flair  \\\n",
       "0     False           836  [R]eddiquette   \n",
       "1     False          1492         /r/all   \n",
       "2     False           949          r/all   \n",
       "3     False          4206       Politics   \n",
       "4     False           501       Politics   \n",
       "\n",
       "                                                Body        creation_date  \n",
       "0  >**Note**: If you want to know what this is al...  2018-08-17 20:02:17  \n",
       "1                                                NaN  2017-06-03 20:47:25  \n",
       "2                                                NaN  2018-06-10 12:46:29  \n",
       "3  Fuck all religion. Fuck Hindusim, fuck Islam, ...  2020-02-26 14:10:49  \n",
       "4                                                NaN  2019-12-24 11:10:46  "
      ]
     },
     "execution_count": 6,
     "metadata": {},
     "output_type": "execute_result"
    }
   ],
   "source": [
    "data.head()"
   ]
  },
  {
   "cell_type": "markdown",
   "metadata": {},
   "source": [
    "To begin with, the coulmn 'unnamed' has come due to index inconsistencies and is of no use to our analysis. Similarly, the columns of ID and subreddit are also not useful since we already know that there is only one subreddit tag. "
   ]
  },
  {
   "cell_type": "code",
   "execution_count": 7,
   "metadata": {
    "scrolled": true
   },
   "outputs": [
    {
     "data": {
      "text/html": [
       "<div>\n",
       "<style scoped>\n",
       "    .dataframe tbody tr th:only-of-type {\n",
       "        vertical-align: middle;\n",
       "    }\n",
       "\n",
       "    .dataframe tbody tr th {\n",
       "        vertical-align: top;\n",
       "    }\n",
       "\n",
       "    .dataframe thead th {\n",
       "        text-align: right;\n",
       "    }\n",
       "</style>\n",
       "<table border=\"1\" class=\"dataframe\">\n",
       "  <thead>\n",
       "    <tr style=\"text-align: right;\">\n",
       "      <th></th>\n",
       "      <th>Title</th>\n",
       "      <th>Score</th>\n",
       "      <th>URL</th>\n",
       "      <th>Original</th>\n",
       "      <th>num_comments</th>\n",
       "      <th>Flair</th>\n",
       "      <th>Body</th>\n",
       "      <th>creation_date</th>\n",
       "    </tr>\n",
       "  </thead>\n",
       "  <tbody>\n",
       "    <tr>\n",
       "      <th>0</th>\n",
       "      <td>Will donate thrice the number of upvotes (amou...</td>\n",
       "      <td>19714</td>\n",
       "      <td>https://www.reddit.com/r/india/comments/981o7s...</td>\n",
       "      <td>False</td>\n",
       "      <td>836</td>\n",
       "      <td>[R]eddiquette</td>\n",
       "      <td>&gt;**Note**: If you want to know what this is al...</td>\n",
       "      <td>2018-08-17 20:02:17</td>\n",
       "    </tr>\n",
       "    <tr>\n",
       "      <th>1</th>\n",
       "      <td>Indian reply to NYtimes cartoon on Paris clima...</td>\n",
       "      <td>18240</td>\n",
       "      <td>http://imgur.com/a/U48v9</td>\n",
       "      <td>False</td>\n",
       "      <td>1492</td>\n",
       "      <td>/r/all</td>\n",
       "      <td>NaN</td>\n",
       "      <td>2017-06-03 20:47:25</td>\n",
       "    </tr>\n",
       "    <tr>\n",
       "      <th>2</th>\n",
       "      <td>The essence of the Indian soap opera, distille...</td>\n",
       "      <td>18195</td>\n",
       "      <td>https://gfycat.com/DigitalSparseAkitainu</td>\n",
       "      <td>False</td>\n",
       "      <td>949</td>\n",
       "      <td>r/all</td>\n",
       "      <td>NaN</td>\n",
       "      <td>2018-06-10 12:46:29</td>\n",
       "    </tr>\n",
       "    <tr>\n",
       "      <th>3</th>\n",
       "      <td>Fuck all Religion</td>\n",
       "      <td>17810</td>\n",
       "      <td>https://www.reddit.com/r/india/comments/f9outu...</td>\n",
       "      <td>False</td>\n",
       "      <td>4206</td>\n",
       "      <td>Politics</td>\n",
       "      <td>Fuck all religion. Fuck Hindusim, fuck Islam, ...</td>\n",
       "      <td>2020-02-26 14:10:49</td>\n",
       "    </tr>\n",
       "    <tr>\n",
       "      <th>4</th>\n",
       "      <td>German exchange Student at IIT Madras is being...</td>\n",
       "      <td>11684</td>\n",
       "      <td>https://i.redd.it/j816l4c40i641.jpg</td>\n",
       "      <td>False</td>\n",
       "      <td>501</td>\n",
       "      <td>Politics</td>\n",
       "      <td>NaN</td>\n",
       "      <td>2019-12-24 11:10:46</td>\n",
       "    </tr>\n",
       "  </tbody>\n",
       "</table>\n",
       "</div>"
      ],
      "text/plain": [
       "                                               Title  Score  \\\n",
       "0  Will donate thrice the number of upvotes (amou...  19714   \n",
       "1  Indian reply to NYtimes cartoon on Paris clima...  18240   \n",
       "2  The essence of the Indian soap opera, distille...  18195   \n",
       "3                                  Fuck all Religion  17810   \n",
       "4  German exchange Student at IIT Madras is being...  11684   \n",
       "\n",
       "                                                 URL  Original  num_comments  \\\n",
       "0  https://www.reddit.com/r/india/comments/981o7s...     False           836   \n",
       "1                           http://imgur.com/a/U48v9     False          1492   \n",
       "2           https://gfycat.com/DigitalSparseAkitainu     False           949   \n",
       "3  https://www.reddit.com/r/india/comments/f9outu...     False          4206   \n",
       "4                https://i.redd.it/j816l4c40i641.jpg     False           501   \n",
       "\n",
       "           Flair                                               Body  \\\n",
       "0  [R]eddiquette  >**Note**: If you want to know what this is al...   \n",
       "1         /r/all                                                NaN   \n",
       "2          r/all                                                NaN   \n",
       "3       Politics  Fuck all religion. Fuck Hindusim, fuck Islam, ...   \n",
       "4       Politics                                                NaN   \n",
       "\n",
       "         creation_date  \n",
       "0  2018-08-17 20:02:17  \n",
       "1  2017-06-03 20:47:25  \n",
       "2  2018-06-10 12:46:29  \n",
       "3  2020-02-26 14:10:49  \n",
       "4  2019-12-24 11:10:46  "
      ]
     },
     "execution_count": 7,
     "metadata": {},
     "output_type": "execute_result"
    }
   ],
   "source": [
    "data.drop(['ID', 'Unnamed: 0', 'Subreddit'], axis=1, inplace=True)\n",
    "data.head()"
   ]
  },
  {
   "cell_type": "markdown",
   "metadata": {},
   "source": [
    "### Flair Data Analysis"
   ]
  },
  {
   "cell_type": "code",
   "execution_count": 8,
   "metadata": {},
   "outputs": [
    {
     "data": {
      "text/plain": [
       "array(['[R]eddiquette', '/r/all', 'r/all', 'Politics', 'Coronavirus',\n",
       "       'Non-Political', 'Politics [Megathread]', 'Policy/Economy',\n",
       "       'Totally real', 'Business/Finance', 'Unverified',\n",
       "       'Science/Technology', 'Sports', 'Photography', 'CAA-NRC',\n",
       "       'Zoke Tyme', 'Official Sadness Thread', 'Demonetization', 'Food',\n",
       "       'Politics -- Source in comments', 'Policy & Economy',\n",
       "       'Policy/Economy -2017 Article ', 'AskIndia', 'Original Comics',\n",
       "       'CAA-NRC-NPR', 'Misleading Headline ', 'OC', 'Misleading',\n",
       "       'On Internet Shutdowns', 'Scheduled', 'Lifehacks', 'AMA',\n",
       "       'Entertainment', nan, '40 Martyrs', 'Goal Achieved!!!'],\n",
       "      dtype=object)"
      ]
     },
     "execution_count": 8,
     "metadata": {},
     "output_type": "execute_result"
    }
   ],
   "source": [
    "# Let's review the different Flairs\n",
    "data['Flair'].unique()"
   ]
  },
  {
   "cell_type": "code",
   "execution_count": 9,
   "metadata": {},
   "outputs": [
    {
     "data": {
      "text/plain": [
       "Non-Political                     417\n",
       "Politics                          302\n",
       "Photography                        42\n",
       "Coronavirus                        38\n",
       "[R]eddiquette                      35\n",
       "Sports                             30\n",
       "Unverified                         16\n",
       "Business/Finance                   16\n",
       "Food                               15\n",
       "Science/Technology                 14\n",
       "Policy/Economy                     14\n",
       "CAA-NRC                            10\n",
       "AskIndia                           10\n",
       "r/all                               3\n",
       "/r/all                              2\n",
       "Demonetization                      2\n",
       "Policy & Economy                    2\n",
       "AMA                                 2\n",
       "Official Sadness Thread             1\n",
       "Misleading Headline                 1\n",
       "Original Comics                     1\n",
       "Zoke Tyme                           1\n",
       "Misleading                          1\n",
       "Politics [Megathread]               1\n",
       "Totally real                        1\n",
       "Entertainment                       1\n",
       "OC                                  1\n",
       "Lifehacks                           1\n",
       "CAA-NRC-NPR                         1\n",
       "On Internet Shutdowns               1\n",
       "Goal Achieved!!!                    1\n",
       "Policy/Economy -2017 Article        1\n",
       "Politics -- Source in comments      1\n",
       "Scheduled                           1\n",
       "40 Martyrs                          1\n",
       "Name: Flair, dtype: int64"
      ]
     },
     "execution_count": 9,
     "metadata": {},
     "output_type": "execute_result"
    }
   ],
   "source": [
    "data['Flair'].value_counts()"
   ]
  },
  {
   "cell_type": "code",
   "execution_count": 10,
   "metadata": {},
   "outputs": [
    {
     "data": {
      "text/plain": [
       "<matplotlib.axes._subplots.AxesSubplot at 0x7fb602f50cf8>"
      ]
     },
     "execution_count": 10,
     "metadata": {},
     "output_type": "execute_result"
    },
    {
     "data": {
      "image/png": "[encoded data removed]",
      "text/plain": [
       "<Figure size 1080x432 with 1 Axes>"
      ]
     },
     "metadata": {
      "needs_background": "light"
     },
     "output_type": "display_data"
    }
   ],
   "source": [
    "data['Flair'].value_counts().plot.bar(figsize=(15, 6))"
   ]
  },
  {
   "cell_type": "code",
   "execution_count": 11,
   "metadata": {},
   "outputs": [
    {
     "data": {
      "text/html": [
       "<div>\n",
       "<style scoped>\n",
       "    .dataframe tbody tr th:only-of-type {\n",
       "        vertical-align: middle;\n",
       "    }\n",
       "\n",
       "    .dataframe tbody tr th {\n",
       "        vertical-align: top;\n",
       "    }\n",
       "\n",
       "    .dataframe thead th {\n",
       "        text-align: right;\n",
       "    }\n",
       "</style>\n",
       "<table border=\"1\" class=\"dataframe\">\n",
       "  <thead>\n",
       "    <tr style=\"text-align: right;\">\n",
       "      <th></th>\n",
       "      <th>Title</th>\n",
       "      <th>Score</th>\n",
       "      <th>URL</th>\n",
       "      <th>Original</th>\n",
       "      <th>num_comments</th>\n",
       "      <th>Flair</th>\n",
       "      <th>Body</th>\n",
       "      <th>creation_date</th>\n",
       "    </tr>\n",
       "  </thead>\n",
       "  <tbody>\n",
       "    <tr>\n",
       "      <th>825</th>\n",
       "      <td>Metropolitan Building, Esplanade, Kolkata. Sho...</td>\n",
       "      <td>1560</td>\n",
       "      <td>https://i.redd.it/fzawrtkqypl31.jpg</td>\n",
       "      <td>True</td>\n",
       "      <td>69</td>\n",
       "      <td>NaN</td>\n",
       "      <td>NaN</td>\n",
       "      <td>2019-09-10 15:30:53</td>\n",
       "    </tr>\n",
       "  </tbody>\n",
       "</table>\n",
       "</div>"
      ],
      "text/plain": [
       "                                                 Title  Score  \\\n",
       "825  Metropolitan Building, Esplanade, Kolkata. Sho...   1560   \n",
       "\n",
       "                                     URL  Original  num_comments Flair Body  \\\n",
       "825  https://i.redd.it/fzawrtkqypl31.jpg      True            69   NaN  NaN   \n",
       "\n",
       "           creation_date  \n",
       "825  2019-09-10 15:30:53  "
      ]
     },
     "execution_count": 11,
     "metadata": {},
     "output_type": "execute_result"
    }
   ],
   "source": [
    "# Let's impute the flair null value\n",
    "data[data['Flair'].isnull()]"
   ]
  },
  {
   "cell_type": "markdown",
   "metadata": {},
   "source": [
    "The above value can be filled with the most common occuring tag which also seems to be what it would belong to i.e Non-Political. I could also drop it but this value seems reasonable to me."
   ]
  },
  {
   "cell_type": "code",
   "execution_count": 12,
   "metadata": {},
   "outputs": [],
   "source": [
    "# Let's remove the 820th item \n",
    "data.drop([825], axis=0, inplace=True)"
   ]
  },
  {
   "cell_type": "code",
   "execution_count": 13,
   "metadata": {},
   "outputs": [],
   "source": [
    "data.loc[(data['Flair'] == '/r/all') | (data['Flair'] == 'r/all'),  'Flair'] = 'r/all'\n",
    "data.loc[(data['Flair'] == 'Politics') | (data['Flair'] == 'Politics [Megathread]') | (data['Flair'] == 'Politics -- Source in comments'),  'Flair'] = 'Politics' \n",
    "data.loc[(data['Flair'] == 'CAA-NRC-NPR') | (data['Flair'] == 'CAA-NRC'),  'Flair'] = 'CAA-NRC'\n",
    "data.loc[(data['Flair'] == 'Misleading') | (data['Flair'] == 'Misleading Headline '),  'Flair'] = 'Misleading'\n",
    "data.loc[(data['Flair'] == 'Policy & Economy') | (data['Flair'] == 'Policy/Economy -2017 Article ') | (data['Flair'] == 'Policy/Economy'),  'Flair'] = 'Policy/Economy'"
   ]
  },
  {
   "cell_type": "markdown",
   "metadata": {},
   "source": [
    "## Basic Plots"
   ]
  },
  {
   "cell_type": "code",
   "execution_count": 14,
   "metadata": {},
   "outputs": [
    {
     "data": {
      "text/plain": [
       "<matplotlib.axes._subplots.AxesSubplot at 0x7fb600e09748>"
      ]
     },
     "execution_count": 14,
     "metadata": {},
     "output_type": "execute_result"
    },
    {
     "data": {
      "image/png": "[encoded data removed]",
      "text/plain": [
       "<Figure size 432x288 with 2 Axes>"
      ]
     },
     "metadata": {
      "needs_background": "light"
     },
     "output_type": "display_data"
    }
   ],
   "source": [
    "# Let's look at the correlation between the numerical features\n",
    "sns.heatmap(data.corr(), annot=True)"
   ]
  },
  {
   "cell_type": "code",
   "execution_count": 15,
   "metadata": {
    "scrolled": true
   },
   "outputs": [
    {
     "data": {
      "text/plain": [
       "<matplotlib.axes._subplots.AxesSubplot at 0x7fb6008565c0>"
      ]
     },
     "execution_count": 15,
     "metadata": {},
     "output_type": "execute_result"
    },
    {
     "data": {
      "image/png": "[encoded data removed]",
      "text/plain": [
       "<Figure size 432x288 with 1 Axes>"
      ]
     },
     "metadata": {
      "needs_background": "light"
     },
     "output_type": "display_data"
    }
   ],
   "source": [
    "# There is a weak correlation between the number of upvotes and the number of comments \n",
    "sns.regplot(x='Score', y='num_comments', data=data)"
   ]
  },
  {
   "cell_type": "markdown",
   "metadata": {},
   "source": [
    "### Grouping Data"
   ]
  },
  {
   "cell_type": "markdown",
   "metadata": {},
   "source": [
    "Collecting the different flairs and labelling them "
   ]
  },
  {
   "cell_type": "code",
   "execution_count": 19,
   "metadata": {},
   "outputs": [
    {
     "data": {
      "text/html": [
       "<div>\n",
       "<style scoped>\n",
       "    .dataframe tbody tr th:only-of-type {\n",
       "        vertical-align: middle;\n",
       "    }\n",
       "\n",
       "    .dataframe tbody tr th {\n",
       "        vertical-align: top;\n",
       "    }\n",
       "\n",
       "    .dataframe thead th {\n",
       "        text-align: right;\n",
       "    }\n",
       "</style>\n",
       "<table border=\"1\" class=\"dataframe\">\n",
       "  <thead>\n",
       "    <tr style=\"text-align: right;\">\n",
       "      <th></th>\n",
       "      <th>Flair</th>\n",
       "      <th>id</th>\n",
       "    </tr>\n",
       "  </thead>\n",
       "  <tbody>\n",
       "    <tr>\n",
       "      <th>0</th>\n",
       "      <td>[R]eddiquette</td>\n",
       "      <td>0</td>\n",
       "    </tr>\n",
       "    <tr>\n",
       "      <th>1</th>\n",
       "      <td>r/all</td>\n",
       "      <td>1</td>\n",
       "    </tr>\n",
       "    <tr>\n",
       "      <th>3</th>\n",
       "      <td>Politics</td>\n",
       "      <td>2</td>\n",
       "    </tr>\n",
       "    <tr>\n",
       "      <th>6</th>\n",
       "      <td>Coronavirus</td>\n",
       "      <td>3</td>\n",
       "    </tr>\n",
       "    <tr>\n",
       "      <th>7</th>\n",
       "      <td>Non-Political</td>\n",
       "      <td>4</td>\n",
       "    </tr>\n",
       "    <tr>\n",
       "      <th>36</th>\n",
       "      <td>Policy/Economy</td>\n",
       "      <td>5</td>\n",
       "    </tr>\n",
       "    <tr>\n",
       "      <th>40</th>\n",
       "      <td>Totally real</td>\n",
       "      <td>6</td>\n",
       "    </tr>\n",
       "    <tr>\n",
       "      <th>56</th>\n",
       "      <td>Business/Finance</td>\n",
       "      <td>7</td>\n",
       "    </tr>\n",
       "    <tr>\n",
       "      <th>73</th>\n",
       "      <td>Unverified</td>\n",
       "      <td>8</td>\n",
       "    </tr>\n",
       "    <tr>\n",
       "      <th>80</th>\n",
       "      <td>Science/Technology</td>\n",
       "      <td>9</td>\n",
       "    </tr>\n",
       "    <tr>\n",
       "      <th>86</th>\n",
       "      <td>Sports</td>\n",
       "      <td>10</td>\n",
       "    </tr>\n",
       "    <tr>\n",
       "      <th>101</th>\n",
       "      <td>Photography</td>\n",
       "      <td>11</td>\n",
       "    </tr>\n",
       "    <tr>\n",
       "      <th>121</th>\n",
       "      <td>CAA-NRC</td>\n",
       "      <td>12</td>\n",
       "    </tr>\n",
       "    <tr>\n",
       "      <th>140</th>\n",
       "      <td>Zoke Tyme</td>\n",
       "      <td>13</td>\n",
       "    </tr>\n",
       "    <tr>\n",
       "      <th>169</th>\n",
       "      <td>Official Sadness Thread</td>\n",
       "      <td>14</td>\n",
       "    </tr>\n",
       "    <tr>\n",
       "      <th>175</th>\n",
       "      <td>Demonetization</td>\n",
       "      <td>15</td>\n",
       "    </tr>\n",
       "    <tr>\n",
       "      <th>189</th>\n",
       "      <td>Food</td>\n",
       "      <td>16</td>\n",
       "    </tr>\n",
       "    <tr>\n",
       "      <th>255</th>\n",
       "      <td>AskIndia</td>\n",
       "      <td>17</td>\n",
       "    </tr>\n",
       "    <tr>\n",
       "      <th>286</th>\n",
       "      <td>Original Comics</td>\n",
       "      <td>18</td>\n",
       "    </tr>\n",
       "    <tr>\n",
       "      <th>527</th>\n",
       "      <td>Misleading</td>\n",
       "      <td>19</td>\n",
       "    </tr>\n",
       "    <tr>\n",
       "      <th>555</th>\n",
       "      <td>OC</td>\n",
       "      <td>20</td>\n",
       "    </tr>\n",
       "    <tr>\n",
       "      <th>662</th>\n",
       "      <td>On Internet Shutdowns</td>\n",
       "      <td>21</td>\n",
       "    </tr>\n",
       "    <tr>\n",
       "      <th>715</th>\n",
       "      <td>Scheduled</td>\n",
       "      <td>22</td>\n",
       "    </tr>\n",
       "    <tr>\n",
       "      <th>720</th>\n",
       "      <td>Lifehacks</td>\n",
       "      <td>23</td>\n",
       "    </tr>\n",
       "    <tr>\n",
       "      <th>788</th>\n",
       "      <td>AMA</td>\n",
       "      <td>24</td>\n",
       "    </tr>\n",
       "    <tr>\n",
       "      <th>793</th>\n",
       "      <td>Entertainment</td>\n",
       "      <td>25</td>\n",
       "    </tr>\n",
       "    <tr>\n",
       "      <th>926</th>\n",
       "      <td>40 Martyrs</td>\n",
       "      <td>26</td>\n",
       "    </tr>\n",
       "    <tr>\n",
       "      <th>946</th>\n",
       "      <td>Goal Achieved!!!</td>\n",
       "      <td>27</td>\n",
       "    </tr>\n",
       "  </tbody>\n",
       "</table>\n",
       "</div>"
      ],
      "text/plain": [
       "                       Flair  id\n",
       "0              [R]eddiquette   0\n",
       "1                      r/all   1\n",
       "3                   Politics   2\n",
       "6                Coronavirus   3\n",
       "7              Non-Political   4\n",
       "36            Policy/Economy   5\n",
       "40              Totally real   6\n",
       "56          Business/Finance   7\n",
       "73                Unverified   8\n",
       "80        Science/Technology   9\n",
       "86                    Sports  10\n",
       "101              Photography  11\n",
       "121                  CAA-NRC  12\n",
       "140                Zoke Tyme  13\n",
       "169  Official Sadness Thread  14\n",
       "175           Demonetization  15\n",
       "189                     Food  16\n",
       "255                 AskIndia  17\n",
       "286          Original Comics  18\n",
       "527               Misleading  19\n",
       "555                       OC  20\n",
       "662    On Internet Shutdowns  21\n",
       "715                Scheduled  22\n",
       "720                Lifehacks  23\n",
       "788                      AMA  24\n",
       "793            Entertainment  25\n",
       "926               40 Martyrs  26\n",
       "946         Goal Achieved!!!  27"
      ]
     },
     "execution_count": 19,
     "metadata": {},
     "output_type": "execute_result"
    }
   ],
   "source": [
    "data['id'] = data['Flair'].factorize()[0]\n",
    "flair_category = data[['Flair', 'id']].drop_duplicates().sort_values('id')\n",
    "flair_category"
   ]
  },
  {
   "cell_type": "markdown",
   "metadata": {},
   "source": [
    "I have performed several other analysis which cannt be presented here due to an lzma module error. I have listed some of them here:- \n",
    "* Most popular words \n",
    "* Unigrams \n",
    "* Important Words in the most popular post\n",
    "* Sentiment Analysis\n",
    "* Time-series based analysis of posts. \n",
    "* Flair wise analysis of upvotes and number of comments. "
   ]
  },
  {
   "cell_type": "code",
   "execution_count": null,
   "metadata": {},
   "outputs": [],
   "source": []
  },
  {
   "cell_type": "code",
   "execution_count": null,
   "metadata": {},
   "outputs": [],
   "source": []
  }
 ],
 "metadata": {
  "kernelspec": {
   "display_name": "Python 3",
   "language": "python",
   "name": "python3"
  },
  "toc": {
   "base_numbering": 1,
   "nav_menu": {},
   "number_sections": true,
   "sideBar": true,
   "skip_h1_title": false,
   "title_cell": "Table of Contents",
   "title_sidebar": "Contents",
   "toc_cell": false,
   "toc_position": {},
   "toc_section_display": true,
   "toc_window_display": false
  }
 },
 "nbformat": 4,
 "nbformat_minor": 4
}
